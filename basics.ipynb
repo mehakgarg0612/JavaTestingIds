{
 "cells": [
  {
   "cell_type": "code",
   "execution_count": null,
   "metadata": {
    "vscode": {
     "languageId": "plaintext"
    }
   },
   "outputs": [],
   "source": [
    "If-Else:\n",
    "\n"
   ]
  },
  {
   "cell_type": "code",
   "execution_count": null,
   "metadata": {
    "vscode": {
     "languageId": "plaintext"
    }
   },
   "outputs": [],
   "source": [
    "class Main {\n",
    "    public static void main(String[] args) {\n",
    "        String Name = \"physics\";\n",
    "       for(int j = 2;j< 4; j++){\n",
    "             System.out.println(Name.substring(j));\n",
    "       }\n",
    "            \n",
    "         \n",
    "        \n",
    "    }\n",
    "}"
   ]
  }
 ],
 "metadata": {
  "language_info": {
   "name": "python"
  }
 },
 "nbformat": 4,
 "nbformat_minor": 2
}
